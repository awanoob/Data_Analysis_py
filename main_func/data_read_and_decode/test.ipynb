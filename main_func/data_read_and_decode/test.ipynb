{
 "cells": [
  {
   "cell_type": "code",
   "execution_count": 11,
   "metadata": {},
   "outputs": [],
   "source": [
    "import numpy as np\n",
    "import re"
   ]
  },
  {
   "cell_type": "code",
   "execution_count": 22,
   "metadata": {},
   "outputs": [
    {
     "name": "stdout",
     "output_type": "stream",
     "text": [
      "[[2.31400000e+03 2.82000000e+01 2.30012893e+01 ... 1.00000000e+01\n",
      "  1.00000000e+01 3.40000000e-01]\n",
      " [2.31400000e+03 2.84000000e+01 2.30012894e+01 ... 1.00000000e+01\n",
      "  1.00000000e+01 3.40000000e-01]\n",
      " [2.31400000e+03 2.86000000e+01 2.30012894e+01 ... 1.00000000e+01\n",
      "  1.00000000e+01 3.30000000e-01]\n",
      " ...\n",
      " [2.31400000e+03 3.00797400e+05 2.30069945e+01 ... 1.00000000e-02\n",
      "  1.00000000e-02 1.00000000e-02]\n",
      " [2.31400000e+03 3.00797600e+05 2.30069936e+01 ... 1.00000000e-02\n",
      "  1.00000000e-02 1.00000000e-02]\n",
      " [2.31400000e+03 3.00797800e+05 2.30069928e+01 ... 1.00000000e-02\n",
      "  1.00000000e-02 1.00000000e-02]]\n"
     ]
    }
   ],
   "source": [
    "file_matrix = np.genfromtxt(r\"J:\\工规客户数据\\主机\\.1250\\0516德赛西威\\CGI-1250\\20240515\\073258_raw_220prodec\\220prodec_rtkplot.txt\", delimiter=None)\n",
    "print(file_matrix)"
   ]
  },
  {
   "cell_type": "code",
   "execution_count": 24,
   "metadata": {},
   "outputs": [],
   "source": [
    "data_matrix = np.zeros((file_matrix.shape[0], 23))\n",
    "# 提取数据\n",
    "data_matrix[:, 0] = file_matrix[:, 0]\n",
    "data_matrix[:, 1] = file_matrix[:, 1]\n",
    "data_matrix[:, 2] = file_matrix[:, 2]\n",
    "data_matrix[:, 3] = file_matrix[:, 3]\n",
    "data_matrix[:, 4] = file_matrix[:, 4]\n",
    "data_matrix[:, 5] = file_matrix[:, 15]\n",
    "data_matrix[:, 6] = file_matrix[:, 16]\n",
    "data_matrix[:, 7] = file_matrix[:, 17]\n",
    "data_matrix[:, 8] = file_matrix[:, 18]\n",
    "data_matrix[:, 9] = file_matrix[:, 19]\n",
    "data_matrix[:, 10] = file_matrix[:, 20]\n",
    "data_matrix[:, 11] = file_matrix[:, 5]\n",
    "data_matrix[:, 12] = file_matrix[:, 14]\n",
    "data_matrix[:, 13] = file_matrix[:, 6]\n",
    "data_matrix[:, 14] = file_matrix[:, 7]\n",
    "data_matrix[:, 15] = file_matrix[:, 8]\n",
    "data_matrix[:, 16] = file_matrix[:, 9]\n",
    "data_matrix[:, 17] = file_matrix[:, 21]\n",
    "data_matrix[:, 18] = file_matrix[:, 22]\n",
    "data_matrix[:, 19] = file_matrix[:, 23]\n",
    "data_matrix[:, 20] = file_matrix[:, 24]\n",
    "data_matrix[:, 21] = file_matrix[:, 25]\n",
    "data_matrix[:, 22] = file_matrix[:, 26]"
   ]
  },
  {
   "cell_type": "code",
   "execution_count": 25,
   "metadata": {},
   "outputs": [
    {
     "name": "stdout",
     "output_type": "stream",
     "text": [
      "[[2.31400000e+03 2.82000000e+01 2.30012893e+01 ... 1.00000000e+01\n",
      "  1.00000000e+01 3.40000000e-01]\n",
      " [2.31400000e+03 2.84000000e+01 2.30012894e+01 ... 1.00000000e+01\n",
      "  1.00000000e+01 3.40000000e-01]\n",
      " [2.31400000e+03 2.86000000e+01 2.30012894e+01 ... 1.00000000e+01\n",
      "  1.00000000e+01 3.30000000e-01]\n",
      " ...\n",
      " [2.31400000e+03 3.00797400e+05 2.30069945e+01 ... 1.00000000e-02\n",
      "  1.00000000e-02 1.00000000e-02]\n",
      " [2.31400000e+03 3.00797600e+05 2.30069936e+01 ... 1.00000000e-02\n",
      "  1.00000000e-02 1.00000000e-02]\n",
      " [2.31400000e+03 3.00797800e+05 2.30069928e+01 ... 1.00000000e-02\n",
      "  1.00000000e-02 1.00000000e-02]]\n"
     ]
    }
   ],
   "source": [
    "print(data_matrix)"
   ]
  }
 ],
 "metadata": {
  "kernelspec": {
   "display_name": "Python 3",
   "language": "python",
   "name": "python3"
  },
  "language_info": {
   "codemirror_mode": {
    "name": "ipython",
    "version": 3
   },
   "file_extension": ".py",
   "mimetype": "text/x-python",
   "name": "python",
   "nbconvert_exporter": "python",
   "pygments_lexer": "ipython3",
   "version": "3.10.11"
  }
 },
 "nbformat": 4,
 "nbformat_minor": 2
}
